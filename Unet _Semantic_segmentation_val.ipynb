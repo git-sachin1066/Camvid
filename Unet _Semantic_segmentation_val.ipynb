{
 "cells": [
  {
   "cell_type": "code",
   "execution_count": 3,
   "metadata": {
    "scrolled": true
   },
   "outputs": [],
   "source": [
    "import h5py\n",
    "import re\n",
    "import hickle as hkl\n",
    "import torch\n",
    "import torch.nn as nn\n",
    "#from torch.legacy.nn import Reshape\n",
    "import graphviz\n",
    "import torch.nn.functional as F\n",
    "from torch.autograd import Variable\n",
    "#from visualize import make_dot\n",
    "import torch.optim as optim\n",
    "import torchvision.models as models\n",
    "import torchvision.transforms as transforms\n",
    "import torch.utils.data as utils\n",
    "import numpy as np\n",
    "import matplotlib.pyplot as plt\n",
    "from scipy.misc import imresize, imread, imshow\n",
    "import cv2\n",
    "import time\n",
    "import logging\n",
    "from math import log,sqrt"
   ]
  },
  {
   "cell_type": "code",
   "execution_count": null,
   "metadata": {},
   "outputs": [],
   "source": [
    "torch.cuda.current_device()"
   ]
  },
  {
   "cell_type": "code",
   "execution_count": 4,
   "metadata": {},
   "outputs": [],
   "source": [
    "# import torch\n",
    "# import torch.nn.functional as F\n",
    "from torch import nn\n",
    "\n",
    "from misc import initialize_weights1\n",
    "\n",
    "\n",
    "class _EncoderBlock(nn.Module):\n",
    "    def __init__(self, in_channels, out_channels, dropout=False):\n",
    "        super(_EncoderBlock, self).__init__()\n",
    "        layers = [\n",
    "            nn.Conv2d(in_channels, out_channels, kernel_size=3),\n",
    "            nn.BatchNorm2d(out_channels),\n",
    "            nn.ReLU(inplace=True),\n",
    "            nn.Conv2d(out_channels, out_channels, kernel_size=3),\n",
    "            nn.BatchNorm2d(out_channels),\n",
    "            nn.ReLU(inplace=True),\n",
    "        ]\n",
    "        if dropout:\n",
    "            layers.append(nn.Dropout())\n",
    "        layers.append(nn.MaxPool2d(kernel_size=2, stride=2))\n",
    "        self.encode = nn.Sequential(*layers)\n",
    "\n",
    "    def forward(self, x):\n",
    "        return self.encode(x)\n",
    "\n",
    "\n",
    "class _DecoderBlock(nn.Module):\n",
    "    def __init__(self, in_channels, middle_channels, out_channels):\n",
    "        super(_DecoderBlock, self).__init__()\n",
    "        self.decode = nn.Sequential(\n",
    "            nn.Conv2d(in_channels, middle_channels, kernel_size=3),\n",
    "            nn.BatchNorm2d(middle_channels),\n",
    "            nn.ReLU(inplace=True),\n",
    "            nn.Conv2d(middle_channels, middle_channels, kernel_size=3),\n",
    "            nn.BatchNorm2d(middle_channels),\n",
    "            nn.ReLU(inplace=True),\n",
    "            nn.ConvTranspose2d(middle_channels, out_channels, kernel_size=2, stride=2),\n",
    "        )\n",
    "\n",
    "    def forward(self, x):\n",
    "        return self.decode(x)\n",
    "\n",
    "\n",
    "class UNet(nn.Module):\n",
    "    def __init__(self, num_classes):\n",
    "        super(UNet, self).__init__()\n",
    "        self.enc1 = _EncoderBlock(3, 64)\n",
    "        self.enc2 = _EncoderBlock(64, 128)\n",
    "        self.enc3 = _EncoderBlock(128, 256)\n",
    "        self.enc4 = _EncoderBlock(256, 512, dropout=True)\n",
    "        self.center = _DecoderBlock(512, 1024, 512)\n",
    "        self.dec4 = _DecoderBlock(1024, 512, 256)\n",
    "        self.dec3 = _DecoderBlock(512, 256, 128)\n",
    "        self.dec2 = _DecoderBlock(256, 128, 64)\n",
    "        self.dec1 = nn.Sequential(\n",
    "            nn.Conv2d(128, 64, kernel_size=3),\n",
    "            nn.BatchNorm2d(64),\n",
    "            nn.ReLU(inplace=True),\n",
    "            nn.Conv2d(64, 64, kernel_size=3),\n",
    "            nn.BatchNorm2d(64),\n",
    "            nn.ReLU(inplace=True),\n",
    "        )\n",
    "        self.final = nn.Conv2d(64, num_classes, kernel_size=1)\n",
    "        initialize_weights1(self)\n",
    "\n",
    "    def forward(self, x):\n",
    "        enc1 = self.enc1(x)\n",
    "        enc2 = self.enc2(enc1)\n",
    "        enc3 = self.enc3(enc2)\n",
    "        enc4 = self.enc4(enc3)\n",
    "        center = self.center(enc4)\n",
    "        dec4 = self.dec4(torch.cat([center, F.upsample(enc4, center.size()[2:], mode='bilinear')], 1))\n",
    "        dec3 = self.dec3(torch.cat([dec4, F.upsample(enc3, dec4.size()[2:], mode='bilinear')], 1))\n",
    "        dec2 = self.dec2(torch.cat([dec3, F.upsample(enc2, dec3.size()[2:], mode='bilinear')], 1))\n",
    "        dec1 = self.dec1(torch.cat([dec2, F.upsample(enc1, dec2.size()[2:], mode='bilinear')], 1))\n",
    "        final = self.final(dec1)\n",
    "        x=F.upsample(final, x.size()[2:], mode='bilinear')\n",
    "        m = torch.nn.Softmax()\n",
    "        x = m(x)\n",
    "        #x = x.view(-1,360,480)\n",
    "        \n",
    "        return x\n"
   ]
  },
  {
   "cell_type": "code",
   "execution_count": 5,
   "metadata": {
    "scrolled": true
   },
   "outputs": [
    {
     "name": "stderr",
     "output_type": "stream",
     "text": [
      "/media/shahzad/New Volume2/DEEP_LEARNING_WORK_ubuntu/Semantic_segmentation_driving_car/misc.py:20: UserWarning: nn.init.kaiming_normal is now deprecated in favor of nn.init.kaiming_normal_.\n",
      "  nn.init.kaiming_normal(module.weight)\n"
     ]
    }
   ],
   "source": [
    "net = UNet(12)\n",
    "#print(net)"
   ]
  },
  {
   "cell_type": "code",
   "execution_count": 6,
   "metadata": {
    "scrolled": true
   },
   "outputs": [
    {
     "name": "stderr",
     "output_type": "stream",
     "text": [
      "/home/shahzad/anaconda3/lib/python3.6/site-packages/torch/nn/functional.py:2351: UserWarning: nn.functional.upsample is deprecated. Use nn.functional.interpolate instead.\n",
      "  warnings.warn(\"nn.functional.upsample is deprecated. Use nn.functional.interpolate instead.\")\n",
      "/home/shahzad/anaconda3/lib/python3.6/site-packages/torch/nn/functional.py:2423: UserWarning: Default upsampling behavior when mode=bilinear is changed to align_corners=False since 0.4.0. Please specify align_corners=True if the old behavior is desired. See the documentation of nn.Upsample for details.\n",
      "  \"See the documentation of nn.Upsample for details.\".format(mode))\n"
     ]
    },
    {
     "name": "stdout",
     "output_type": "stream",
     "text": [
      "torch.Size([1, 12, 360, 480])\n"
     ]
    },
    {
     "name": "stderr",
     "output_type": "stream",
     "text": [
      "/home/shahzad/anaconda3/lib/python3.6/site-packages/ipykernel_launcher.py:80: UserWarning: Implicit dimension choice for softmax has been deprecated. Change the call to include dim=X as an argument.\n"
     ]
    }
   ],
   "source": [
    "input=Variable(torch.randn(1,3,360,480))\n",
    "output=net(input)\n",
    "print(output.size())\n"
   ]
  },
  {
   "cell_type": "code",
   "execution_count": 4,
   "metadata": {},
   "outputs": [],
   "source": [
    "def get_predictions(output_batch):\n",
    "    bs,c,h,w = output_batch.size()\n",
    "    tensor = output_batch.data\n",
    "    values, indices = tensor.cpu().max(1)\n",
    "    indices = indices.view(bs,h,w)\n",
    "    return indices"
   ]
  },
  {
   "cell_type": "code",
   "execution_count": null,
   "metadata": {},
   "outputs": [],
   "source": [
    "# print(output.shape)\n",
    "# a=get_predictions(output)\n",
    "# print(a.shape)\n",
    "# # b= a.view(-1,360,480)\n",
    "# # print(b.shape)\n",
    "# # print(b)"
   ]
  },
  {
   "cell_type": "code",
   "execution_count": null,
   "metadata": {
    "scrolled": true
   },
   "outputs": [],
   "source": [
    "# print(criterion(output,tar))"
   ]
  },
  {
   "cell_type": "code",
   "execution_count": null,
   "metadata": {},
   "outputs": [],
   "source": [
    "file = h5py.File('Semantic1_TrainDataset.h5')\n",
    "xtrainT = torch.from_numpy(np.array(file['xtrain'],dtype=np.float32)).float()\n",
    "ytrainT = torch.from_numpy(np.array(file['ytrain'],dtype=np.float32)).float()\n",
    "#xtrain = np.array(file['xtrain'],dtype=np.float32)\n",
    "#ytrain = np.array(file['ytrain'],dtype=np.float32)"
   ]
  },
  {
   "cell_type": "code",
   "execution_count": 5,
   "metadata": {},
   "outputs": [],
   "source": [
    "file = h5py.File('Semantic1_TestDataset.h5')\n",
    "xtestT = torch.from_numpy(np.array(file['xtest'],dtype=np.float32)).float()\n",
    "ytestT = torch.from_numpy(np.array(file['ytest'],dtype=np.float32)).float()\n",
    "#xtest = np.array(file['xtest'],dtype=np.float32)\n",
    "#ytest = np.array(file['ytest'],dtype=np.float32)"
   ]
  },
  {
   "cell_type": "code",
   "execution_count": 6,
   "metadata": {},
   "outputs": [],
   "source": [
    "def batch_rgb_to_bgr(batch):\n",
    "    #print(batch.size())\n",
    "    (r, g, b) = torch.chunk(batch, 3, 1)\n",
    "    #print(r.size())\n",
    "    batch1 = torch.cat((b, g, r),1)\n",
    "    #print(batch1.size())\n",
    "    return batch1"
   ]
  },
  {
   "cell_type": "code",
   "execution_count": 7,
   "metadata": {},
   "outputs": [
    {
     "ename": "NameError",
     "evalue": "name 'xtrainT' is not defined",
     "output_type": "error",
     "traceback": [
      "\u001b[0;31m---------------------------------------------------------------------------\u001b[0m",
      "\u001b[0;31mNameError\u001b[0m                                 Traceback (most recent call last)",
      "\u001b[0;32m<ipython-input-7-9bb4b7f372cc>\u001b[0m in \u001b[0;36m<module>\u001b[0;34m()\u001b[0m\n\u001b[0;32m----> 1\u001b[0;31m \u001b[0mxtrainT\u001b[0m \u001b[0;34m=\u001b[0m \u001b[0mbatch_rgb_to_bgr\u001b[0m\u001b[0;34m(\u001b[0m\u001b[0mxtrainT\u001b[0m\u001b[0;34m)\u001b[0m\u001b[0;34m\u001b[0m\u001b[0m\n\u001b[0m\u001b[1;32m      2\u001b[0m \u001b[0mprint\u001b[0m\u001b[0;34m(\u001b[0m\u001b[0mxtrainT\u001b[0m\u001b[0;34m.\u001b[0m\u001b[0msize\u001b[0m\u001b[0;34m(\u001b[0m\u001b[0;34m)\u001b[0m\u001b[0;34m,\u001b[0m\u001b[0mytrainT\u001b[0m\u001b[0;34m.\u001b[0m\u001b[0msize\u001b[0m\u001b[0;34m(\u001b[0m\u001b[0;34m)\u001b[0m\u001b[0;34m)\u001b[0m\u001b[0;34m\u001b[0m\u001b[0m\n",
      "\u001b[0;31mNameError\u001b[0m: name 'xtrainT' is not defined"
     ]
    }
   ],
   "source": [
    "xtrainT = batch_rgb_to_bgr(xtrainT)\n",
    "print(xtrainT.size(),ytrainT.size())"
   ]
  },
  {
   "cell_type": "code",
   "execution_count": null,
   "metadata": {},
   "outputs": [],
   "source": [
    "xtrainT = torch.div(xtrainT,255.0)\n",
    "#ytrainT = torch.div(ytrainT,255.0)"
   ]
  },
  {
   "cell_type": "code",
   "execution_count": 7,
   "metadata": {},
   "outputs": [
    {
     "name": "stdout",
     "output_type": "stream",
     "text": [
      "torch.Size([43, 3, 360, 480]) torch.Size([43, 1, 360, 480])\n"
     ]
    }
   ],
   "source": [
    "xtestT = batch_rgb_to_bgr(xtestT)\n",
    "\n",
    "print(xtestT.size(),ytestT.size())"
   ]
  },
  {
   "cell_type": "code",
   "execution_count": 8,
   "metadata": {},
   "outputs": [],
   "source": [
    "xtestT = torch.div(xtestT,255.0)\n",
    "#ytestT = torch.div(ytestT,255.0)"
   ]
  },
  {
   "cell_type": "code",
   "execution_count": null,
   "metadata": {
    "scrolled": true
   },
   "outputs": [],
   "source": [
    "#print(torch.min(xtrainT), torch.max(xtrainT), torch.min(xtestT), torch.max(xtestT))\n",
    "print(torch.min(xtrainT), torch.max(xtrainT))"
   ]
  },
  {
   "cell_type": "code",
   "execution_count": null,
   "metadata": {},
   "outputs": [],
   "source": [
    "print(xtrainT.size(), ytrainT.size(), xtestT.size(), ytestT.size())"
   ]
  },
  {
   "cell_type": "code",
   "execution_count": 9,
   "metadata": {},
   "outputs": [],
   "source": [
    "class Normalize(object):\n",
    "    \"\"\"\n",
    "    Normalize an tensor image with mean and standard deviation.\n",
    "    Given mean: (R, G, B) and std: (R, G, B),\n",
    "    will normalize each channel of the torch.*Tensor, i.e.\n",
    "    channel = (channel - mean) / std\n",
    "    Args:\n",
    "        mean (sequence): Sequence of means for R, G, B channels respecitvely.\n",
    "        std (sequence): Sequence of standard deviations for R, G, B channels\n",
    "            respecitvely.\n",
    "    \"\"\"\n",
    "\n",
    "    def __init__(self, mean, std):\n",
    "        self.mean = mean\n",
    "        self.std = std\n",
    "\n",
    "    def __call__(self, tensor):\n",
    "        \"\"\"\n",
    "        Args:\n",
    "            tensor (Tensor): Tensor image of size (C, H, W) to be normalized.\n",
    "        Returns:\n",
    "            Tensor: Normalized image.\n",
    "        \"\"\"\n",
    "        # TODO: make efficient\n",
    "        for t, m, s in zip(tensor, self.mean, self.std):\n",
    "            t.sub_(m).div_(s)\n",
    "        return tensor"
   ]
  },
  {
   "cell_type": "code",
   "execution_count": null,
   "metadata": {},
   "outputs": [],
   "source": [
    "mn = [0.406,0.456,0.485]\n",
    "sd = [0.225,0.224,0.229]\n",
    "norm = Normalize(mn,sd)\n",
    "xtrainT = norm(xtrainT)\n"
   ]
  },
  {
   "cell_type": "code",
   "execution_count": 10,
   "metadata": {},
   "outputs": [],
   "source": [
    "mn = [0.406,0.456,0.485]\n",
    "sd = [0.225,0.224,0.229]\n",
    "norm = Normalize(mn,sd)\n",
    "xtestT = norm(xtestT)"
   ]
  },
  {
   "cell_type": "code",
   "execution_count": null,
   "metadata": {},
   "outputs": [],
   "source": [
    "print(torch.min(xtrainT), torch.max(xtrainT), torch.min(xtestT), torch.max(xtestT))"
   ]
  },
  {
   "cell_type": "code",
   "execution_count": null,
   "metadata": {},
   "outputs": [],
   "source": [
    "#xtestT = batch_rgb_to_bgr(xtestT)\n",
    "#xtestT = torch.div(xtestT,255.0)\n",
    "#mn = [0.406,0.456,0.485]\n",
    "#sd = [0.225,0.224,0.229]\n",
    "#norm = Normalize(mn,sd)\n",
    "#xtestT = norm(xtestT)\n",
    "#print(xtestT.size(), ytestT.size())\n",
    "#print(torch.min(xtestT), torch.max(xtestT),torch.min(ytestT), torch.max(ytestT))"
   ]
  },
  {
   "cell_type": "code",
   "execution_count": 11,
   "metadata": {},
   "outputs": [],
   "source": [
    "##def train(model, loss, optimizer, x_val, y_val, validPixel, batch_sz):\n",
    "def train(model, loss, optimizer, x_val, y_val,batch_size):\n",
    "    #model.train()\n",
    "    x = Variable(x_val,requires_grad = False).cuda()\n",
    "    y = Variable(y_val,requires_grad = False).type('torch.LongTensor').cuda()\n",
    "    \n",
    "    optimizer.zero_grad()\n",
    "    \n",
    "    fx = model.forward(x)\n",
    "    \n",
    "    #print fx.data[0][0][64][87]\n",
    "    #fx = model5.forward(Variable(xtest2[start:end], volatile=True).cuda())\n",
    "    ##output = loss.forward(fx,y,validPixel,batch_sz)\n",
    "    output = loss(fx,y)\n",
    "    #output = loss(fx, y)\n",
    "    output.backward()\n",
    "    \n",
    "    optimizer.step()\n",
    "    \n",
    "    return output.item()"
   ]
  },
  {
   "cell_type": "code",
   "execution_count": 12,
   "metadata": {},
   "outputs": [],
   "source": [
    "##def train(model, loss, optimizer, x_val, y_val, validPixel, batch_sz):\n",
    "def test(model, loss, x_val, y_val):\n",
    "    #model.eval()\n",
    "    x = Variable(x_val,requires_grad = False).cuda()\n",
    "    y = Variable(y_val,requires_grad = False).type('torch.LongTensor').cuda()\n",
    "    \n",
    "    optimizer.zero_grad()\n",
    "    \n",
    "    fx = model.forward(x)\n",
    "    \n",
    "    #print fx.data[0][0][64][87]\n",
    "    #fx = model5.forward(Variable(xtest2[start:end], volatile=True).cuda())\n",
    "    ##output = loss.forward(fx,y,validPixel,batch_sz)\n",
    "    output = loss.forward(fx,y)\n",
    "    #output = loss(fx, y)\n",
    "   \n",
    "    \n",
    "    return output.item()"
   ]
  },
  {
   "cell_type": "code",
   "execution_count": null,
   "metadata": {},
   "outputs": [],
   "source": [
    "# #custom loss function.... this will be reverse Huber...\n",
    "\n",
    "# class CustomLoss(nn.Module):\n",
    "#     def __init__(self):\n",
    "#         super(CustomLoss, self).__init__()\n",
    "        \n",
    "#     def forward(self,inp, tar):\n",
    "#         #target is the ground truth value...\n",
    "#         #k = torch.mean(inp[:,0])\n",
    "#         '''\n",
    "#         if (k >= 1.48 and k <= 1.65):\n",
    "#             diff = torch.abs(tar[:,1]-inp[:,1])\n",
    "#             loss = torch.mean(torch.pow(diff,2))\n",
    "#         else:\n",
    "#         '''\n",
    "# #         diff1 = (tar[:,0]-inp[:,0]) #*(180/np.pi)\n",
    "# #         diff=torch.pow(diff,2)\n",
    "# #         loss = torch.mean(diff)\n",
    "#         loss = torch.sqrt( torch.mean( torch.abs(torch.log(tar)-torch.log(inp)) ** 2 ) )\n",
    "#         #print(loss)\n",
    "#         return loss\n",
    "#         '''\n",
    "#         c1 = c.data[0] \n",
    "#         temp = diff > c1\n",
    "#         check1 = torch.prod(temp)\n",
    "        \n",
    "#         if check1 == 0:\n",
    "#             lossval = torch.mean(diff)\n",
    "#         else:\n",
    "#             temp4 = torch.pow(diff,2)\n",
    "#             d = torch.pow(c,2)\n",
    "#             temp4 = temp4.add(d.expand_as(temp4))\n",
    "#             lossval = torch.mean(temp4/(2*c))\n",
    "#         return lossval\n",
    "#         '''"
   ]
  },
  {
   "cell_type": "code",
   "execution_count": null,
   "metadata": {},
   "outputs": [],
   "source": [
    "# #custom loss function....\n",
    "\n",
    "# class RMSELoss(nn.Module):\n",
    "#     def __init__(self):\n",
    "#         super(RMSELoss, self).__init__()\n",
    "        \n",
    "#     def forward(self,input, target):\n",
    "#         diff = torch.abs(target-input)\n",
    "#         temp1 = diff**2\n",
    "#         temp2 = torch.mean(temp1)\n",
    "#         return torch.sqrt(temp2)"
   ]
  },
  {
   "cell_type": "code",
   "execution_count": null,
   "metadata": {},
   "outputs": [],
   "source": [
    "# class LogLoss(nn.Module):\n",
    "#     def __init__(self):\n",
    "#         super(LogLoss, self).__init__()\n",
    "        \n",
    "#     def forward(self,inp, tar):\n",
    "     \n",
    "#         loss = torch.sqrt( torch.mean( torch.abs(torch.log(tar)-torch.log(inp)) ** 2 ) )\n",
    "#         #print(loss)\n",
    "#         return loss\n",
    "        "
   ]
  },
  {
   "cell_type": "code",
   "execution_count": null,
   "metadata": {},
   "outputs": [],
   "source": [
    "# import math\n",
    "# class BerhuLoss(nn.Module):\n",
    "#     def __init__(self):\n",
    "#         super(BerhuLoss, self).__init__()\n",
    "        \n",
    "#     def forward(self,inp, tar):\n",
    "#         #target is the ground truth value...\n",
    "#         mt = tar[:,0]\n",
    "#         mp = inp[:,0]\n",
    "#         diff = torch.abs(mt-mp)        \n",
    "#         lossval = 0.0        \n",
    "#         c = 0.2 * torch.max(diff)\n",
    "#         l1 = torch.mean(diff)\n",
    "#         l2 = torch.mean(torch.pow(diff,2))\n",
    "#         if l1 <= c:\n",
    "#             lossval = l1\n",
    "#         else:\n",
    "#             lossval = (l2+c**2)/(2*c)\n",
    "        \n",
    "#         return lossval\n",
    "\n",
    "\n"
   ]
  },
  {
   "cell_type": "code",
   "execution_count": null,
   "metadata": {},
   "outputs": [],
   "source": [
    "# #alpha = torch.FloatTensor(ytrainT[5,0])\n",
    "# alpha = ytrainT[5,0]\n",
    "# #print(alpha.shape)\n",
    "# xt = torch.FloatTensor([np.cos(alpha),np.sin(alpha)])\n",
    "# print(ytrainT[5,0],xt.size())"
   ]
  },
  {
   "cell_type": "code",
   "execution_count": null,
   "metadata": {},
   "outputs": [],
   "source": [
    "# alpha = ytrainT[5:10,0]\n",
    "# print(torch.cos(alpha[0:1]-alpha[1:2]))\n",
    "# xt = torch.stack([torch.cos(alpha[0:1]),torch.sin(alpha[0:1])])\n",
    "# xp = torch.stack([torch.cos(alpha[1:2]),torch.sin(alpha[1:2])])\n",
    "# print(xt[0],xt[1])\n",
    "# #print(los)"
   ]
  },
  {
   "cell_type": "code",
   "execution_count": null,
   "metadata": {},
   "outputs": [],
   "source": [
    "# class CosineLoss(nn.Module):\n",
    "#     def __init__(self):\n",
    "#         super(CosineLoss, self).__init__()\n",
    "        \n",
    "#     def forward(self,inp, tar,batch_sz):\n",
    "#         alpha_t = tar[:,0]\n",
    "#         alpha_p = inp[:,0]\n",
    "#         #xt = torch.stack([torch.cos(alpha_t),torch.sin(alpha_t)])\n",
    "#         #xp = torch.stack([torch.cos(alpha_p),torch.sin(alpha_p)])\n",
    "#         #cos = nn.CosineSimilarity(dim=1, eps=1e-6)\n",
    "#         #loss = cos(xt, xp)\n",
    "#         #return loss\n",
    "#         loss = Variable(torch.FloatTensor(batch_sz).zero_(), requires_grad=False).cuda()\n",
    "#         for i in range(batch_sz):          \n",
    "#             loss[i] = torch.cos(alpha_t[i:i+1]-alpha_p[i:i+1])\n",
    "            \n",
    "#         lossval = 1.0-torch.mean(loss)    \n",
    "#         #print(lossval)\n",
    "#         return lossval\n",
    "        "
   ]
  },
  {
   "cell_type": "code",
   "execution_count": 13,
   "metadata": {},
   "outputs": [
    {
     "name": "stdout",
     "output_type": "stream",
     "text": [
      "torch.Size([33, 3, 360, 480]) torch.Size([33, 1, 360, 480])\n",
      "10 torch.Size([10, 1, 360, 480])\n"
     ]
    }
   ],
   "source": [
    "xtrainT=xtestT[0:33]\n",
    "ytrainT=ytestT[0:33]\n",
    "\n",
    "xvalT=xtestT[33:43]\n",
    "yvalT=ytestT[33:43]\n",
    "print(xtrainT.size(),ytrainT.size())\n",
    "print(xvalT.size()[0],yvalT.size())"
   ]
  },
  {
   "cell_type": "code",
   "execution_count": null,
   "metadata": {},
   "outputs": [],
   "source": [
    "mean_train_losses = []\n",
    "mean_val_losses = []"
   ]
  },
  {
   "cell_type": "code",
   "execution_count": 32,
   "metadata": {},
   "outputs": [
    {
     "name": "stderr",
     "output_type": "stream",
     "text": [
      "/home/shahzad/anaconda3/lib/python3.6/site-packages/torch/nn/functional.py:2351: UserWarning: nn.functional.upsample is deprecated. Use nn.functional.interpolate instead.\n",
      "  warnings.warn(\"nn.functional.upsample is deprecated. Use nn.functional.interpolate instead.\")\n",
      "/home/shahzad/anaconda3/lib/python3.6/site-packages/torch/nn/functional.py:2423: UserWarning: Default upsampling behavior when mode=bilinear is changed to align_corners=False since 0.4.0. Please specify align_corners=True if the old behavior is desired. See the documentation of nn.Upsample for details.\n",
      "  \"See the documentation of nn.Upsample for details.\".format(mode))\n",
      "/home/shahzad/anaconda3/lib/python3.6/site-packages/ipykernel_launcher.py:80: UserWarning: Implicit dimension choice for softmax has been deprecated. Change the call to include dim=X as an argument.\n"
     ]
    },
    {
     "name": "stdout",
     "output_type": "stream",
     "text": [
      "Loss 1.8571999940005215 is bigger than Loss 1.85709424 in the prev epoch \n",
      "Training Loss = 1.85719999 Validation Loss = 1.96474926 at epoch 1  completed in 1m 40s\n",
      "save the weights\n",
      "Training Loss = 1.85580528 Validation Loss = 1.96477891 at epoch 2  completed in 1m 40s\n",
      "save the weights\n",
      "Training Loss = 1.85487560 Validation Loss = 1.96221929 at epoch 3  completed in 1m 40s\n",
      "Loss 1.855213432601004 is bigger than Loss 1.8548756006992224 in the prev epoch \n",
      "Training Loss = 1.85521343 Validation Loss = 1.96256204 at epoch 4  completed in 1m 41s\n",
      "save the weights\n",
      "Training Loss = 1.85433739 Validation Loss = 1.96197749 at epoch 5  completed in 1m 40s\n",
      "Loss 1.8546058770382043 is bigger than Loss 1.854337392431317 in the prev epoch \n",
      "Training Loss = 1.85460588 Validation Loss = 1.96019814 at epoch 6  completed in 1m 40s\n",
      "save the weights\n",
      "Training Loss = 1.85400014 Validation Loss = 1.96492995 at epoch 7  completed in 1m 42s\n",
      "save the weights\n",
      "Training Loss = 1.85364084 Validation Loss = 1.96212149 at epoch 8  completed in 1m 40s\n",
      "save the weights\n",
      "Training Loss = 1.85322291 Validation Loss = 1.96299565 at epoch 9  completed in 1m 40s\n",
      "Loss 1.853310064835982 is bigger than Loss 1.853222912008112 in the prev epoch \n",
      "Training Loss = 1.85331006 Validation Loss = 1.96878232 at epoch 10  completed in 1m 40s\n",
      "Loss 1.8536349751732566 is bigger than Loss 1.853222912008112 in the prev epoch \n",
      "Training Loss = 1.85363498 Validation Loss = 1.97257507 at epoch 11  completed in 1m 42s\n",
      "save the weights\n",
      "Training Loss = 1.85253852 Validation Loss = 1.96385726 at epoch 12  completed in 1m 40s\n",
      "save the weights\n",
      "Training Loss = 1.85162608 Validation Loss = 1.96856960 at epoch 13  completed in 1m 40s\n",
      "save the weights\n",
      "Training Loss = 1.85154769 Validation Loss = 1.96443418 at epoch 14  completed in 1m 41s\n",
      "Loss 1.8516419584100896 is bigger than Loss 1.851547689148874 in the prev epoch \n",
      "Training Loss = 1.85164196 Validation Loss = 1.96316041 at epoch 15  completed in 1m 40s\n",
      "Loss 1.8519788908235955 is bigger than Loss 1.851547689148874 in the prev epoch \n",
      "Training Loss = 1.85197889 Validation Loss = 1.96713446 at epoch 16  completed in 1m 40s\n",
      "save the weights\n",
      "Training Loss = 1.85032913 Validation Loss = 1.96578424 at epoch 17  completed in 1m 40s\n",
      "Loss 1.8504201498898594 is bigger than Loss 1.8503291281786831 in the prev epoch \n",
      "Training Loss = 1.85042015 Validation Loss = 1.96165832 at epoch 18  completed in 1m 40s\n",
      "Loss 1.850433136477615 is bigger than Loss 1.8503291281786831 in the prev epoch \n",
      "Training Loss = 1.85043314 Validation Loss = 1.96366602 at epoch 19  completed in 1m 40s\n",
      "Loss 1.8503689007325606 is bigger than Loss 1.8503291281786831 in the prev epoch \n",
      "Training Loss = 1.85036890 Validation Loss = 1.96458179 at epoch 20  completed in 1m 40s\n"
     ]
    }
   ],
   "source": [
    "#MUST UNCOMMENT BELOW LINE...\n",
    "    \n",
    "net = net.cuda()\n",
    "\n",
    "#loading the model after the weights of epoch50.. to check what loss the model gives if lr is taken as 0.0001\n",
    "#optimizer = optim.SGD(net.parameters(), lr=0.01, momentum=0.9)\n",
    "optimizer = optim.Adam(net.parameters(), lr=0.004, betas=(0.9, 0.999), eps=1e-08, weight_decay=0, amsgrad=False)\n",
    "\n",
    "\n",
    "#criterion = RMSELoss()\n",
    "#criterion = BerhuLoss()\n",
    "#criterion = EuclideanLoss()\n",
    "#criterion = nn.MSELoss()\n",
    "#criterion = CosineLoss()\n",
    "#criterion = torch.nn.MSELoss(size_average=False)\n",
    "#criterion = CustomLoss()\n",
    "#criterion = LogLoss()\n",
    "#criterion = RMSELoss()\n",
    "criterion = nn.CrossEntropyLoss()\n",
    "#criterion = BerhuLoss()\n",
    "#criterion =  CosineLoss()\n",
    "#criterion = nn.MSELoss()\n",
    "#criterion = nn.LogLoss()\n",
    "criterion.cuda()\n",
    "\n",
    "currepochloss =1.85709424#float('Inf')\n",
    "#epochs, n_examples, i, batch_size, flag = 1,5900, 0, 5, 0\n",
    "epochs, n_examples, i, batch_size, flag = 20, 33, 0, 1, 0\n",
    "# mean_train_losses = []\n",
    "# mean_val_losses = []\n",
    "\n",
    "while i != epochs:\n",
    "    val_losses = []\n",
    "    train_losses = []\n",
    "    since = time.time()\n",
    "    cost, batchloss = 0.0, 0.0\n",
    "    num_batches = n_examples//batch_size\n",
    "    #print num_batches    #indices = np.random.permutation(5600)\n",
    "    #indices = np.random.permutation(3524)\n",
    "    \n",
    "    #indices = np.random.permutation(5900)\n",
    "    indices = np.random.permutation(n_examples)\n",
    "    samplesUnprocessed = np.size(indices)\n",
    "    \n",
    "    #batchwise training starts here...\n",
    "    for k in range(num_batches):\n",
    "        since1 = time.time()\n",
    "       # print(\"bacth number:\"+str(k))\n",
    "        xtrain3 = torch.FloatTensor(batch_size,3,360,480)\n",
    "        ytrain3 = torch.FloatTensor(batch_size,360,480)\n",
    "        ##validPixel = torch.FloatTensor(batch_size,480,640)\n",
    "        \n",
    "        for ind in range(batch_size):\n",
    "            #ind1 = np.random.randint(0,5599)\n",
    "            ind1 = np.random.randint(0,samplesUnprocessed)\n",
    "            #ind1 = np.random.randint(0,794)\n",
    "            #ind1 = np.random.randint(0,794)            \n",
    "            newxind = indices[ind1]            \n",
    "            xtrain3[ind] = xtrainT[newxind]\n",
    "            ytrain3[ind] = ytrainT[newxind]\n",
    "            ##validPixel[ind] = imgValidTrain2[newxind]\n",
    "            \n",
    "            #print ytrain3[ind,0,0,0], ytrain2[newxind,0,0,0]\n",
    "            indices = np.delete(indices,ind1)\n",
    "            samplesUnprocessed = samplesUnprocessed - 1\n",
    "        \n",
    "        #start, end = k*batch_size, (k+1)*batch_size\n",
    "        #batchloss = train(model5,criterion, optimizer, xtrain3, ytrain3, validPixel,batch_size)\n",
    "        batchloss = train(net,criterion, optimizer, xtrain3, ytrain3, batch_size)\n",
    "        train_losses.append(batchloss)\n",
    "        batch_time = time.time() - since1\n",
    "        #cost += batchloss\n",
    "        cost = (cost*k+batchloss)/(k+1)\n",
    "        #print k,cost\n",
    "        #print(\"No. of samples UnProcessed \"+str(samplesUnprocessed))\n",
    "        \n",
    "    for k in range(xvalT.size()[0]):\n",
    "        since1 = time.time()\n",
    "        xtest3 = torch.FloatTensor(1,3,360,480)\n",
    "        ytest3 = torch.FloatTensor(1,360,480)\n",
    "        xtest3[0] = xvalT[k]\n",
    "        ytest3[0] = yvalT[k]\n",
    "        Val_loss = test(net,criterion, xtest3, ytest3)\n",
    "        val_losses.append(Val_loss)\n",
    "        \n",
    "        \n",
    "    time_elapsed = time.time() - since\n",
    "    epochloss = cost #/num_batches\n",
    "    mean_train_losses.append(np.mean(train_losses))\n",
    "    mean_val_losses.append(np.mean(val_losses))\n",
    "    \n",
    "    if epochloss < currepochloss:\n",
    "        print('save the weights')\n",
    "        torch.save(net.state_dict(),\"./UNET_weight/UNET_segmentation_epochs_val_check_adam.pth\")\n",
    "        flag = 0\n",
    "        currepochloss = epochloss\n",
    "    else:\n",
    "        flag += 1\n",
    "        \n",
    "        if flag == 5:\n",
    "            for p in optimizer.param_groups:\n",
    "                lr2 = p['lr']\n",
    "            newlr = lr2/5\n",
    "            \n",
    "            if newlr < 1e-15:\n",
    "                print(\"Cant decrease further!!\")\n",
    "                newlr = 1e-15\n",
    "            flag = 0 \n",
    "            optimizer = optim.Adam(net.parameters(), lr=newlr, betas=(0.9, 0.999), eps=1e-08, weight_decay=0, amsgrad=False)\n",
    "\n",
    "            print(\"Learning rate changed from \"+str(lr2)+\" to \"+str(newlr))\n",
    "            \n",
    "        print(\"Loss \"+str(epochloss)+\" is bigger than Loss \"+str(currepochloss)+\" in the prev epoch \")\n",
    "        \n",
    "    print('Training Loss = {:.8f} Validation Loss = {:.8f} at epoch {:d}  completed in {:.0f}m {:.0f}s'.format(epochloss,np.mean(val_losses),(i+1),(time_elapsed//60),(time_elapsed%60)))\n",
    "    i += 1 "
   ]
  },
  {
   "cell_type": "code",
   "execution_count": null,
   "metadata": {
    "scrolled": false
   },
   "outputs": [],
   "source": [
    "# #MUST UNCOMMENT BELOW LINE...\n",
    "    \n",
    "# net = net.cuda()\n",
    "\n",
    "# #loading the model after the weights of epoch50.. to check what loss the model gives if lr is taken as 0.0001\n",
    "# #optimizer = optim.SGD(net.parameters(), lr=0.01, momentum=0.9)\n",
    "# optimizer = optim.Adam(net.parameters(), lr=0.1, betas=(0.9, 0.999), eps=1e-08, weight_decay=0, amsgrad=False)\n",
    "\n",
    "# #criterion = RMSELoss()\n",
    "# #criterion = BerhuLoss()\n",
    "# #criterion = EuclideanLoss()\n",
    "# #criterion = nn.MSELoss()\n",
    "# #criterion = CosineLoss()\n",
    "# #criterion = torch.nn.MSELoss(size_average=False)\n",
    "# #criterion = CustomLoss()\n",
    "# #criterion = LogLoss()\n",
    "# #criterion = RMSELoss()\n",
    "# criterion = nn.CrossEntropyLoss()\n",
    "# #criterion = BerhuLoss()\n",
    "# #criterion =  CosineLoss()\n",
    "# #criterion = nn.MSELoss()\n",
    "# #criterion = nn.LogLoss()\n",
    "# criterion.cuda()\n",
    "\n",
    "# currepochloss =float('Inf')\n",
    "# #epochs, n_examples, i, batch_size, flag = 1,5900, 0, 5, 0\n",
    "# epochs, n_examples, i, batch_size, flag = 40, 33, 0, 1, 0\n",
    "# mean_train_losses = []\n",
    "# mean_val_losses = []\n",
    "\n",
    "# while i != epochs:\n",
    "#     val_losses = []\n",
    "#     train_losses = []\n",
    "#     since = time.time()\n",
    "#     cost, batchloss = 0.0, 0.0\n",
    "#     num_batches = n_examples//batch_size\n",
    "#     #print num_batches    #indices = np.random.permutation(5600)\n",
    "#     #indices = np.random.permutation(3524)\n",
    "    \n",
    "#     #indices = np.random.permutation(5900)\n",
    "#     indices = np.random.permutation(n_examples)\n",
    "#     samplesUnprocessed = np.size(indices)\n",
    "    \n",
    "#     #batchwise training starts here...\n",
    "#     for k in range(num_batches):\n",
    "#         since1 = time.time()\n",
    "#        # print(\"bacth number:\"+str(k))\n",
    "#         xtrain3 = torch.FloatTensor(batch_size,3,360,480)\n",
    "#         ytrain3 = torch.FloatTensor(batch_size,360,480)\n",
    "#         ##validPixel = torch.FloatTensor(batch_size,480,640)\n",
    "        \n",
    "#         for ind in range(batch_size):\n",
    "#             #ind1 = np.random.randint(0,5599)\n",
    "#             ind1 = np.random.randint(0,samplesUnprocessed)\n",
    "#             #ind1 = np.random.randint(0,794)\n",
    "#             #ind1 = np.random.randint(0,794)            \n",
    "#             newxind = indices[ind1]            \n",
    "#             xtrain3[ind] = xtrainT[newxind]\n",
    "#             ytrain3[ind] = ytrainT[newxind]\n",
    "#             ##validPixel[ind] = imgValidTrain2[newxind]\n",
    "            \n",
    "#             #print ytrain3[ind,0,0,0], ytrain2[newxind,0,0,0]\n",
    "#             indices = np.delete(indices,ind1)\n",
    "#             samplesUnprocessed = samplesUnprocessed - 1\n",
    "        \n",
    "#         #start, end = k*batch_size, (k+1)*batch_size\n",
    "#         #batchloss = train(model5,criterion, optimizer, xtrain3, ytrain3, validPixel,batch_size)\n",
    "#         batchloss = train(net,criterion, optimizer, xtrain3, ytrain3, batch_size)\n",
    "#         train_losses.append(batchloss)\n",
    "#         batch_time = time.time() - since1\n",
    "#         #cost += batchloss\n",
    "#         cost = (cost*k+batchloss)/(k+1)\n",
    "#         #print k,cost\n",
    "#         #print(\"No. of samples UnProcessed \"+str(samplesUnprocessed))\n",
    "        \n",
    "#     for k in range(xvalT.size()[0]):\n",
    "#         since1 = time.time()\n",
    "#         xtest3 = torch.FloatTensor(1,3,360,480)\n",
    "#         ytest3 = torch.FloatTensor(1,360,480)\n",
    "#         xtest3[0] = xvalT[k]\n",
    "#         ytest3[0] = yvalT[k]\n",
    "#         Val_loss = test(net,criterion, xtest3, ytest3)\n",
    "#         val_losses.append(Val_loss)\n",
    "        \n",
    "        \n",
    "#     time_elapsed = time.time() - since\n",
    "#     epochloss = cost #/num_batches\n",
    "#     mean_train_losses.append(np.mean(train_losses))\n",
    "#     mean_val_losses.append(np.mean(val_losses))\n",
    "#     val_loss=np.mean(val_losses)\n",
    "    \n",
    "#     if val_loss < currepochloss:\n",
    "#         print('save the weights')\n",
    "#         torch.save(net.state_dict(),\"./UNET_weight/UNET_segmentation_epochs_val_check_adam.pth\")\n",
    "#         flag = 0\n",
    "#         currepochloss = val_loss\n",
    "#     else:\n",
    "#         flag += 1\n",
    "        \n",
    "#         if flag == 5:\n",
    "#             for p in optimizer.param_groups:\n",
    "#                 lr2 = p['lr']\n",
    "#             newlr = lr2/5\n",
    "            \n",
    "#             if newlr < 1e-15:\n",
    "#                 print(\"Cant decrease further!!\")\n",
    "#                 newlr = 1e-15\n",
    "#             flag = 0 \n",
    "#             optimizer = optim.SGD(net.parameters(), lr=newlr, momentum=0.9)\n",
    "#             print(\"Learning rate changed from \"+str(lr2)+\" to \"+str(newlr))\n",
    "            \n",
    "#         print(\"Val Loss \"+str(val_loss)+\" is bigger than Val Loss \"+str(currepochloss)+\" in the prev epoch \")\n",
    "        \n",
    "#     print('Training Loss = {:.8f} Validation Loss = {:.8f} at epoch {:d}  completed in {:.0f}m {:.0f}s'.format(epochloss,np.mean(val_losses),(i+1),(time_elapsed//60),(time_elapsed%60)))\n",
    "#     i += 1 "
   ]
  },
  {
   "cell_type": "code",
   "execution_count": 40,
   "metadata": {
    "scrolled": false
   },
   "outputs": [
    {
     "data": {
      "text/plain": [
       "<matplotlib.legend.Legend at 0x7f8090dd5390>"
      ]
     },
     "execution_count": 40,
     "metadata": {},
     "output_type": "execute_result"
    },
    {
     "data": {
      "image/png": "[encoded data removed]",
      "text/plain": [
       "<matplotlib.figure.Figure at 0x7f8090dcb198>"
      ]
     },
     "metadata": {},
     "output_type": "display_data"
    }
   ],
   "source": [
    "import pandas as pd\n",
    "train_loss_series = pd.Series(mean_train_losses)\n",
    "val_loss_series = pd.Series(mean_val_losses)\n",
    "train_loss_series.plot(label=\"train\")\n",
    "val_loss_series.plot(label=\"validation\")\n",
    "plt.legend()"
   ]
  },
  {
   "cell_type": "code",
   "execution_count": 27,
   "metadata": {},
   "outputs": [
    {
     "name": "stdout",
     "output_type": "stream",
     "text": [
      "0.004\n"
     ]
    }
   ],
   "source": [
    "\n",
    "for params in optimizer.param_groups:\n",
    "    print(params['lr'])"
   ]
  },
  {
   "cell_type": "code",
   "execution_count": null,
   "metadata": {
    "scrolled": true
   },
   "outputs": [],
   "source": [
    "net = net.cuda()\n",
    "net.load_state_dict(torch.load(\"./UNET_weight/UNET_segmentation_epochs_val_check3.pth\"))"
   ]
  },
  {
   "cell_type": "code",
   "execution_count": null,
   "metadata": {
    "scrolled": true
   },
   "outputs": [],
   "source": [
    "# net = net.cuda()\n",
    "# #testing of the architecture...\n",
    "# num_batches = 0\n",
    "# #6 evenly divides the test batch size..\n",
    "# test_batch_size = 2\n",
    "# n_examples = 6\n",
    "# #finalpred = Variable(torch.zeros((n_examples,3,120,160)))\n",
    "# finalpred = Variable(torch.zeros((n_examples,512,512)))\n",
    "# print(\"finalpred size is ---> \", finalpred.size())\n",
    "\n",
    "# num_batches = n_examples//test_batch_size\n",
    "# print(\"num of batches --->\", num_batches)\n",
    "# i=10\n",
    "# for k in range(num_batches):\n",
    "#     start, end = (i)*test_batch_size, (i+1)*test_batch_size\n",
    "#     start1, end1 = (k)*test_batch_size, (k+1)*test_batch_size\n",
    "#     output = net.forward(Variable(xtestT[start1:end1], volatile=True).cuda())\n",
    "#     finalpred[start1:end1] = output\n",
    "#     i=i+1"
   ]
  },
  {
   "cell_type": "code",
   "execution_count": null,
   "metadata": {},
   "outputs": [],
   "source": [
    "# d = torch.rand(2,2)\n",
    "\n",
    "# p = d.numpy()\n",
    "\n",
    "# #Variables are wrappers around tensors that save operation history. the data can accessed with below method\n",
    "# data = finalpred.data.numpy()\n",
    "# print(data.shape)"
   ]
  },
  {
   "cell_type": "code",
   "execution_count": 39,
   "metadata": {
    "scrolled": false
   },
   "outputs": [
    {
     "name": "stderr",
     "output_type": "stream",
     "text": [
      "/home/shahzad/anaconda3/lib/python3.6/site-packages/ipykernel_launcher.py:30: DeprecationWarning: `imresize` is deprecated!\n",
      "`imresize` is deprecated in SciPy 1.0.0, and will be removed in 1.2.0.\n",
      "Use ``skimage.transform.resize`` instead.\n",
      "/home/shahzad/anaconda3/lib/python3.6/site-packages/ipykernel_launcher.py:42: UserWarning: volatile was removed and now has no effect. Use `with torch.no_grad():` instead.\n",
      "/home/shahzad/anaconda3/lib/python3.6/site-packages/torch/nn/functional.py:2351: UserWarning: nn.functional.upsample is deprecated. Use nn.functional.interpolate instead.\n",
      "  warnings.warn(\"nn.functional.upsample is deprecated. Use nn.functional.interpolate instead.\")\n",
      "/home/shahzad/anaconda3/lib/python3.6/site-packages/torch/nn/functional.py:2423: UserWarning: Default upsampling behavior when mode=bilinear is changed to align_corners=False since 0.4.0. Please specify align_corners=True if the old behavior is desired. See the documentation of nn.Upsample for details.\n",
      "  \"See the documentation of nn.Upsample for details.\".format(mode))\n",
      "/home/shahzad/anaconda3/lib/python3.6/site-packages/ipykernel_launcher.py:80: UserWarning: Implicit dimension choice for softmax has been deprecated. Change the call to include dim=X as an argument.\n"
     ]
    },
    {
     "data": {
      "image/png": "[encoded data removed]",
      "text/plain": [
       "<matplotlib.figure.Figure at 0x7f80913687b8>"
      ]
     },
     "metadata": {},
     "output_type": "display_data"
    }
   ],
   "source": [
    "#net.eval()\n",
    "plt.rcParams['image.cmap'] = 'gray'\n",
    "plt.rcParams['image.interpolation'] = 'none'\n",
    "%matplotlib inline\n",
    "\n",
    "fig = plt.figure()\n",
    "fig.set_figheight(9)\n",
    "fig.set_figwidth(9)\n",
    "ind = 0\n",
    "flag = 0\n",
    "\n",
    "#imageinds = [345,255,468,630,170]\n",
    "#imageinds = [0,1,2,3,4]\n",
    "ind11 = np.random.permutation(xtestT.size()[0])\n",
    "imageinds = [ind11[0],ind11[1],ind11[2],ind11[3],ind11[4]]\n",
    "\n",
    "#imageinds = [463,464,465,466,467]\n",
    "#imageinds = [155,156,157,158,159]\n",
    "\n",
    "for i in range(1,21,4):\n",
    "    nind = imageinds[ind]\n",
    "    \n",
    "    img1 = np.zeros((360,480,3))\n",
    "    temp = xtestT[nind]\n",
    "    #print(finxtest1[5].shape)\n",
    "\n",
    "    img1[:,:,0] = temp[0,:,:]\n",
    "    img1[:,:,1] = temp[1,:,:]\n",
    "    img1[:,:,2] = temp[2,:,:]\n",
    "    img1 = imresize(img1,(360,480,3))\n",
    "    \n",
    "    a=fig.add_subplot(5,4,i)\n",
    "    imgplot = plt.imshow(img1)\n",
    "    if flag == 0:\n",
    "        a.set_title('Input')\n",
    "    a.axes.get_xaxis().set_visible(False)\n",
    "    a.axes.get_yaxis().set_visible(False)\n",
    "    a=fig.add_subplot(5,4,i+1)\n",
    "    ##################################################\n",
    "    testPT = xtestT[nind]\n",
    "    testPT = testPT.view(1,3,360,480)\n",
    "    test_pred = net.forward(Variable(testPT, volatile=True).cuda())\n",
    "    test_pred=get_predictions(test_pred)\n",
    "    testx11 = test_pred.cpu()\n",
    "    testx = testx11.detach().numpy()\n",
    "    testx = np.reshape(testx,(1,360,480))\n",
    "    testx = testx.transpose(1,2,0)\n",
    "    testx = cv2.resize(testx,(480,360))\n",
    "    imgplot = plt.imshow(testx)\n",
    "    imgplot.set_cmap('jet')\n",
    "    #print(\"hi inside\")\n",
    "    if flag == 0:\n",
    "        a.set_title('Predicted Depth')\n",
    "    a.axes.get_xaxis().set_visible(False)\n",
    "    a.axes.get_yaxis().set_visible(False)\n",
    "    ##################################################\n",
    "    a=fig.add_subplot(5,4,i+2)\n",
    "    tar = ytestT[nind]\n",
    "    tar_x = tar.numpy()\n",
    "    tar_x = np.reshape(tar_x,(1,360,480))\n",
    "    tar_x = tar_x.transpose(1,2,0)\n",
    "    tar_x = cv2.resize(tar_x,(480,360))\n",
    "    imgplot = plt.imshow(tar_x)\n",
    "    imgplot.set_cmap('jet')\n",
    "    if flag == 0:\n",
    "        a.set_title('Actual Depth')\n",
    "    a.axes.get_xaxis().set_visible(False)\n",
    "    a.axes.get_yaxis().set_visible(False)\n",
    "    ##################################################\n",
    "    a=fig.add_subplot(5,4,i+3)\n",
    "#     ytest = ytestT[nind].numpy()\n",
    "    error1 = np.abs(testx-tar_x)\n",
    "    #print \"max is --->\", error1.max()\n",
    "    #print \"min is --->\", error1.min()\n",
    "    imgplot = plt.imshow(error1)\n",
    "    if flag == 0:\n",
    "        a.set_title('Absolute Error')\n",
    "    #imgplot.set_rotation(0)\n",
    "    a.axes.get_xaxis().set_visible(False)\n",
    "    a.axes.get_yaxis().set_visible(False)\n",
    "    #imgplot.set_cmap('hot')\n",
    "    imgplot.set_cmap('jet')\n",
    "    plt.colorbar(fraction=0.080, pad=0.03)\n",
    "    #plt.colorbar(fraction=0.080, pad=0.03,ticks=[0.0,0.2,0.4,0.6])\n",
    "    #plt.clim(0,1)\n",
    "    plt.clim(vmin=0, vmax=0.7)\n",
    "    ##################################################\n",
    "    ind += 1\n",
    "    flag = 1"
   ]
  },
  {
   "cell_type": "code",
   "execution_count": null,
   "metadata": {
    "scrolled": false
   },
   "outputs": [],
   "source": [
    "import scipy\n",
    "from scipy.misc import imresize, imread, imshow\n",
    "plt.rcParams['image.cmap'] = 'gray'\n",
    "plt.rcParams['image.interpolation'] = 'none'\n",
    "%matplotlib inline\n",
    "\n",
    "fig = plt.figure()\n",
    "fig.set_figheight(9)\n",
    "fig.set_figwidth(9)\n",
    "import cv2\n",
    "\n",
    "ind = 0\n",
    "testPT = xtestT[ind]\n",
    "\n",
    "testPT = testPT.view(1,3,360,480)\n",
    "test_pred = net.forward(Variable(testPT, volatile=True).cuda())\n",
    "test_pred=get_predictions(test_pred)\n",
    "print(test_pred.size())\n",
    "testx = testPT.numpy()\n",
    "testx = np.reshape(testx,(3,360,480))\n",
    "testx = testx.transpose(1,2,0)\n",
    "testx = imresize(testx,(360,480,3))\n",
    "#imshow(testx)\n",
    "scipy.misc.imsave('test_30.png', testx)\n",
    "a=fig.add_subplot(1,2,1)\n",
    "imgplot = plt.imshow(testx)\n",
    "a.set_title('Input')\n",
    "a.axes.get_xaxis().set_visible(False)\n",
    "a.axes.get_yaxis().set_visible(False)\n"
   ]
  },
  {
   "cell_type": "code",
   "execution_count": null,
   "metadata": {},
   "outputs": [],
   "source": [
    "print(test_pred.size(),test_pred)"
   ]
  },
  {
   "cell_type": "code",
   "execution_count": null,
   "metadata": {},
   "outputs": [],
   "source": [
    "import scipy\n",
    "from scipy.misc import imresize, imread, imshow\n",
    "from PIL import Image\n",
    "\n",
    "import cv2\n",
    "\n",
    "\n",
    "tar = ytestT[ind]\n",
    "print(\"1st\",tar.shape)\n",
    "\n",
    "\n",
    "tar_x = tar.numpy()\n",
    "\n",
    "print(\"2nd\",tar_x.shape)\n",
    "\n",
    "\n",
    "#testx = testPT.numpy()\n",
    "tar_x = np.reshape(tar_x,(1,360,480))\n",
    "print(\"firt\",testx.shape)\n",
    "tar_x = tar_x.transpose(1,2,0)\n",
    "print(\"second\",tar_x.shape)\n",
    "\n",
    "\n",
    "\n",
    "\n",
    "\n",
    "\n",
    "tar_x = cv2.resize(tar_x,(480,360))\n",
    "print(\"third\",tar_x.shape)\n",
    "\n",
    "\n",
    "\n",
    "scipy.misc.imsave('tar_30.png', tar_x)\n",
    "imgplot = plt.imshow(tar_x)\n",
    "imgplot.set_cmap('jet')\n",
    "print(\"fourth\",tar_x.shape)\n"
   ]
  },
  {
   "cell_type": "code",
   "execution_count": null,
   "metadata": {},
   "outputs": [],
   "source": [
    "import scipy\n",
    "from scipy.misc import imresize, imread, imshow\n",
    "from PIL import Image\n",
    "\n",
    "import cv2\n",
    "\n",
    "print(test_pred.shape)\n",
    "pred = test_pred.cpu()\n",
    "print(pred.shape)\n",
    "pred = pred.detach().numpy()\n",
    "\n",
    "#testx = testPT.numpy()\n",
    "pred = np.reshape(pred,(1,360,480))\n",
    "print(\"firt\",pred.shape)\n",
    "pred = pred.transpose(1,2,0)\n",
    "print(\"second\",pred.shape)\n",
    "pred = cv2.resize(pred,(480,360))\n",
    "print(\"third\",pred.shape)\n",
    "scipy.misc.imsave('pred_30.png', pred)\n",
    "imgplot = plt.imshow(pred)\n",
    "imgplot.set_cmap('jet')\n",
    "print(\"fourth\",tar_x.shape)\n"
   ]
  },
  {
   "cell_type": "code",
   "execution_count": null,
   "metadata": {},
   "outputs": [],
   "source": [
    "error=abs(tar_x-testx)\n",
    "print(error.shape)\n",
    "scipy.misc.imsave('error_200.png', error)\n",
    "imgplot = plt.imshow(error)\n",
    "imgplot.set_cmap('jet')\n"
   ]
  },
  {
   "cell_type": "code",
   "execution_count": null,
   "metadata": {},
   "outputs": [],
   "source": [
    "# intersection = np.logical_and(tar_x, pred)\n",
    "# union = np.logical_or(tar_x, pred)\n",
    "# iou_score = np.sum(intersection) / np.sum(union) "
   ]
  },
  {
   "cell_type": "code",
   "execution_count": null,
   "metadata": {},
   "outputs": [],
   "source": [
    "# print(iou_score, intersection.shape, union.shape, np.sum(intersection),np.sum(union))"
   ]
  },
  {
   "cell_type": "code",
   "execution_count": null,
   "metadata": {},
   "outputs": [],
   "source": []
  }
 ],
 "metadata": {
  "kernelspec": {
   "display_name": "Python 3",
   "language": "python",
   "name": "python3"
  },
  "language_info": {
   "codemirror_mode": {
    "name": "ipython",
    "version": 3
   },
   "file_extension": ".py",
   "mimetype": "text/x-python",
   "name": "python",
   "nbconvert_exporter": "python",
   "pygments_lexer": "ipython3",
   "version": "3.6.5"
  }
 },
 "nbformat": 4,
 "nbformat_minor": 2
}
